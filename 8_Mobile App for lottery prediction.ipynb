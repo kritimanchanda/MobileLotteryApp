{
 "cells": [
  {
   "cell_type": "markdown",
   "metadata": {},
   "source": [
    "## Mobile App for Lottery Addiction"
   ]
  },
  {
   "cell_type": "markdown",
   "metadata": {},
   "source": [
    "Many people start playing the lottery for fun, but for some this activity turns into a habit which eventually escalates into addiction. Like other compulsive gamblers, lottery addicts soon begin spending from their savings and loans, they start to accumulate debts, and eventually engage in desperate behaviors like theft.\n",
    "\n",
    "A medical institute that aims to prevent and treat gambling addictions wants to build a dedicated mobile app to help lottery addicts better estimate their chances of winning. The institute has a team of engineers that will build the app, but they need us to create the logical core of the app and calculate probabilities."
   ]
  },
  {
   "cell_type": "code",
   "execution_count": 1,
   "metadata": {
    "collapsed": true
   },
   "outputs": [],
   "source": [
    "#Function to calculate factorial\n",
    "\n",
    "def factorial(n):\n",
    "    if n==1:\n",
    "        return 1\n",
    "    else:\n",
    "        return n*factorial(n-1)\n",
    "    \n",
    "# Function to calc combinations\n",
    "def combinations(n,k):\n",
    "    num=factorial(n)\n",
    "    den1=factorial(k)\n",
    "    den2=factorial(n-k)\n",
    "    den=den1*den2\n",
    "    return num/den\n"
   ]
  },
  {
   "cell_type": "code",
   "execution_count": 2,
   "metadata": {
    "collapsed": false
   },
   "outputs": [],
   "source": [
    "def one_ticket_probability(list1):\n",
    "    total_outcomes=combinations(49,6)\n",
    "    successful_outcome=1\n",
    "    probability=1/total_outcomes\n",
    "    percent=probability*100\n",
    "    template = \"The probability of winning is {0:.9f}\"\n",
    "    output = template.format(percent)\n",
    "    print(output + \"% with the following numbers in the list \"\\\n",
    "          + str(list1).replace('[','').replace(']',''))"
   ]
  },
  {
   "cell_type": "code",
   "execution_count": 3,
   "metadata": {
    "collapsed": false
   },
   "outputs": [
    {
     "name": "stdout",
     "output_type": "stream",
     "text": [
      "The probability of winning is 0.000007151% with the following numbers in the list 13, 22, 24, 27, 42, 44\n"
     ]
    }
   ],
   "source": [
    "one_ticket_probability([13, 22, 24, 27, 42, 44])"
   ]
  },
  {
   "cell_type": "code",
   "execution_count": 4,
   "metadata": {
    "collapsed": false
   },
   "outputs": [
    {
     "data": {
      "text/plain": [
       "(3665, 11)"
      ]
     },
     "execution_count": 4,
     "metadata": {},
     "output_type": "execute_result"
    }
   ],
   "source": [
    "import pandas as pd\n",
    "import numpy as np\n",
    "\n",
    "lottery_649=pd.read_csv('649.csv')\n",
    "lottery_649.shape"
   ]
  },
  {
   "cell_type": "code",
   "execution_count": 8,
   "metadata": {
    "collapsed": false
   },
   "outputs": [
    {
     "data": {
      "text/html": [
       "<div>\n",
       "<style scoped>\n",
       "    .dataframe tbody tr th:only-of-type {\n",
       "        vertical-align: middle;\n",
       "    }\n",
       "\n",
       "    .dataframe tbody tr th {\n",
       "        vertical-align: top;\n",
       "    }\n",
       "\n",
       "    .dataframe thead th {\n",
       "        text-align: right;\n",
       "    }\n",
       "</style>\n",
       "<table border=\"1\" class=\"dataframe\">\n",
       "  <thead>\n",
       "    <tr style=\"text-align: right;\">\n",
       "      <th></th>\n",
       "      <th>PRODUCT</th>\n",
       "      <th>DRAW NUMBER</th>\n",
       "      <th>SEQUENCE NUMBER</th>\n",
       "      <th>DRAW DATE</th>\n",
       "      <th>NUMBER DRAWN 1</th>\n",
       "      <th>NUMBER DRAWN 2</th>\n",
       "      <th>NUMBER DRAWN 3</th>\n",
       "      <th>NUMBER DRAWN 4</th>\n",
       "      <th>NUMBER DRAWN 5</th>\n",
       "      <th>NUMBER DRAWN 6</th>\n",
       "      <th>BONUS NUMBER</th>\n",
       "    </tr>\n",
       "  </thead>\n",
       "  <tbody>\n",
       "    <tr>\n",
       "      <th>0</th>\n",
       "      <td>649</td>\n",
       "      <td>1</td>\n",
       "      <td>0</td>\n",
       "      <td>6/12/1982</td>\n",
       "      <td>3</td>\n",
       "      <td>11</td>\n",
       "      <td>12</td>\n",
       "      <td>14</td>\n",
       "      <td>41</td>\n",
       "      <td>43</td>\n",
       "      <td>13</td>\n",
       "    </tr>\n",
       "  </tbody>\n",
       "</table>\n",
       "</div>"
      ],
      "text/plain": [
       "   PRODUCT  DRAW NUMBER  SEQUENCE NUMBER  DRAW DATE  NUMBER DRAWN 1  \\\n",
       "0      649            1                0  6/12/1982               3   \n",
       "\n",
       "   NUMBER DRAWN 2  NUMBER DRAWN 3  NUMBER DRAWN 4  NUMBER DRAWN 5  \\\n",
       "0              11              12              14              41   \n",
       "\n",
       "   NUMBER DRAWN 6  BONUS NUMBER  \n",
       "0              43            13  "
      ]
     },
     "execution_count": 8,
     "metadata": {},
     "output_type": "execute_result"
    }
   ],
   "source": [
    "row_2=lottery_649.loc[[0]]\n",
    "row_2"
   ]
  },
  {
   "cell_type": "code",
   "execution_count": 9,
   "metadata": {
    "collapsed": false
   },
   "outputs": [],
   "source": [
    "def extract_numbers(row):\n",
    "    set1=set()\n",
    "    columns=['NUMBER DRAWN 1','NUMBER DRAWN 2','NUMBER DRAWN 3',\\\n",
    "             'NUMBER DRAWN 4','NUMBER DRAWN 5','NUMBER DRAWN 6']\n",
    "    for col in columns:\n",
    "        num1=int(row[col])\n",
    "        set1.add(num1)\n",
    "    return set1\n",
    "        "
   ]
  },
  {
   "cell_type": "code",
   "execution_count": 10,
   "metadata": {
    "collapsed": false
   },
   "outputs": [
    {
     "data": {
      "text/plain": [
       "{3, 11, 12, 14, 41, 43}"
      ]
     },
     "execution_count": 10,
     "metadata": {},
     "output_type": "execute_result"
    }
   ],
   "source": [
    "set_output=extract_numbers(row_2)\n",
    "set_output"
   ]
  },
  {
   "cell_type": "code",
   "execution_count": 11,
   "metadata": {
    "collapsed": false
   },
   "outputs": [
    {
     "data": {
      "text/plain": [
       "0        {3, 41, 11, 12, 43, 14}\n",
       "1        {33, 36, 37, 39, 8, 41}\n",
       "2         {1, 6, 39, 23, 24, 27}\n",
       "3         {3, 9, 10, 43, 13, 20}\n",
       "4        {34, 5, 14, 47, 21, 31}\n",
       "5        {8, 41, 20, 21, 25, 31}\n",
       "6       {33, 36, 42, 18, 25, 28}\n",
       "7        {7, 40, 16, 17, 48, 31}\n",
       "8        {5, 38, 37, 10, 23, 27}\n",
       "9        {4, 37, 46, 15, 48, 30}\n",
       "10        {33, 38, 7, 9, 42, 21}\n",
       "11      {36, 11, 43, 17, 19, 20}\n",
       "12       {37, 7, 14, 47, 17, 20}\n",
       "13      {35, 44, 25, 28, 29, 30}\n",
       "14       {36, 39, 8, 41, 47, 18}\n",
       "15       {9, 12, 13, 14, 44, 48}\n",
       "16       {4, 40, 43, 44, 14, 18}\n",
       "17      {34, 35, 36, 13, 16, 18}\n",
       "18      {36, 11, 23, 25, 28, 29}\n",
       "19       {37, 7, 45, 18, 23, 25}\n",
       "20      {37, 11, 45, 18, 19, 31}\n",
       "21       {8, 14, 16, 48, 18, 31}\n",
       "22       {4, 11, 45, 23, 24, 25}\n",
       "23        {33, 34, 3, 4, 48, 19}\n",
       "24       {5, 43, 17, 21, 28, 30}\n",
       "25       {36, 6, 38, 46, 17, 24}\n",
       "26        {4, 9, 10, 11, 43, 46}\n",
       "27       {32, 33, 7, 13, 45, 23}\n",
       "28      {35, 37, 11, 18, 22, 28}\n",
       "29      {35, 45, 48, 25, 26, 31}\n",
       "                  ...           \n",
       "3635     {2, 10, 43, 44, 48, 28}\n",
       "3636      {1, 33, 9, 10, 43, 19}\n",
       "3637    {35, 43, 44, 46, 16, 17}\n",
       "3638       {1, 5, 39, 9, 41, 12}\n",
       "3639     {9, 11, 45, 49, 28, 30}\n",
       "3640    {11, 12, 46, 19, 24, 28}\n",
       "3641      {3, 7, 43, 47, 22, 26}\n",
       "3642       {34, 6, 8, 9, 40, 13}\n",
       "3643    {36, 40, 47, 49, 18, 22}\n",
       "3644      {32, 3, 7, 41, 10, 43}\n",
       "3645     {1, 36, 11, 48, 49, 19}\n",
       "3646    {39, 12, 17, 19, 22, 27}\n",
       "3647    {41, 12, 49, 19, 20, 30}\n",
       "3648    {40, 10, 46, 14, 16, 15}\n",
       "3649    {33, 34, 44, 46, 24, 31}\n",
       "3650      {4, 37, 36, 7, 49, 28}\n",
       "3651     {33, 4, 48, 18, 24, 26}\n",
       "3652    {36, 37, 15, 17, 21, 24}\n",
       "3653     {34, 37, 6, 44, 17, 21}\n",
       "3654    {39, 46, 19, 21, 28, 30}\n",
       "3655    {34, 38, 44, 14, 15, 28}\n",
       "3656      {4, 9, 42, 44, 15, 20}\n",
       "3657    {39, 12, 13, 44, 16, 23}\n",
       "3658     {38, 39, 9, 14, 17, 21}\n",
       "3659     {32, 2, 40, 45, 49, 26}\n",
       "3660    {38, 40, 41, 10, 15, 23}\n",
       "3661    {36, 46, 47, 19, 25, 31}\n",
       "3662     {32, 34, 6, 22, 24, 31}\n",
       "3663     {2, 38, 15, 49, 21, 31}\n",
       "3664    {35, 37, 14, 48, 24, 31}\n",
       "Length: 3665, dtype: object"
      ]
     },
     "execution_count": 11,
     "metadata": {},
     "output_type": "execute_result"
    }
   ],
   "source": [
    "winning_numbers=lottery_649.apply(extract_numbers,axis=1)\n",
    "winning_numbers"
   ]
  },
  {
   "cell_type": "code",
   "execution_count": 12,
   "metadata": {
    "collapsed": false
   },
   "outputs": [
    {
     "data": {
      "text/plain": [
       "3665"
      ]
     },
     "execution_count": 12,
     "metadata": {},
     "output_type": "execute_result"
    }
   ],
   "source": [
    "winning_numbers.shape[0]"
   ]
  },
  {
   "cell_type": "code",
   "execution_count": 13,
   "metadata": {
    "collapsed": false
   },
   "outputs": [],
   "source": [
    "def check_historical_occurence(user_list, historical_set):\n",
    "    user_set=set(user_list)\n",
    "    boolean_set=historical_set.apply(lambda x : x==user_set)\n",
    "    if boolean_set.sum()==0:\n",
    "        print(\"This combination have not occured in past ever\")\n",
    "        print(\"The probability of getting this occurence is 0.0000071% \")\n",
    "    else:\n",
    "        print(\"Number of times the combination occured in past is \" \\\n",
    "              +str(boolean_set.sum()))\n",
    "        template=\"Probability of winning the big prize in next combination is {0:.9f}\"\n",
    "        output = \\\n",
    "        template.format(float((boolean_set.sum()/combinations(49,6))*100))\n",
    "        print(output)\n",
    "    return boolean_set\n",
    "    "
   ]
  },
  {
   "cell_type": "code",
   "execution_count": 14,
   "metadata": {
    "collapsed": false
   },
   "outputs": [
    {
     "name": "stdout",
     "output_type": "stream",
     "text": [
      "Number of times the combination occured in past is 1\n",
      "Probability of winning the big prize in next combination is 0.000007151\n"
     ]
    },
    {
     "data": {
      "text/plain": [
       "0       False\n",
       "1        True\n",
       "2       False\n",
       "3       False\n",
       "4       False\n",
       "5       False\n",
       "6       False\n",
       "7       False\n",
       "8       False\n",
       "9       False\n",
       "10      False\n",
       "11      False\n",
       "12      False\n",
       "13      False\n",
       "14      False\n",
       "15      False\n",
       "16      False\n",
       "17      False\n",
       "18      False\n",
       "19      False\n",
       "20      False\n",
       "21      False\n",
       "22      False\n",
       "23      False\n",
       "24      False\n",
       "25      False\n",
       "26      False\n",
       "27      False\n",
       "28      False\n",
       "29      False\n",
       "        ...  \n",
       "3635    False\n",
       "3636    False\n",
       "3637    False\n",
       "3638    False\n",
       "3639    False\n",
       "3640    False\n",
       "3641    False\n",
       "3642    False\n",
       "3643    False\n",
       "3644    False\n",
       "3645    False\n",
       "3646    False\n",
       "3647    False\n",
       "3648    False\n",
       "3649    False\n",
       "3650    False\n",
       "3651    False\n",
       "3652    False\n",
       "3653    False\n",
       "3654    False\n",
       "3655    False\n",
       "3656    False\n",
       "3657    False\n",
       "3658    False\n",
       "3659    False\n",
       "3660    False\n",
       "3661    False\n",
       "3662    False\n",
       "3663    False\n",
       "3664    False\n",
       "Length: 3665, dtype: bool"
      ]
     },
     "execution_count": 14,
     "metadata": {},
     "output_type": "execute_result"
    }
   ],
   "source": [
    "user_listt=[33, 36, 37, 39, 8, 41]\n",
    "check_historical_occurence(user_listt,winning_numbers)"
   ]
  },
  {
   "cell_type": "code",
   "execution_count": 17,
   "metadata": {
    "collapsed": true
   },
   "outputs": [],
   "source": [
    "def multi_ticket_probability(no_tickets):\n",
    "    total_outcomes=combinations(49,6)\n",
    "    num=no_tickets\n",
    "    probabilty=(no_tickets/total_outcomes)*100\n",
    "    template=\\\n",
    "    \"Probability of winning the big prize with {:,} tickets is {:.9f}\".\\\n",
    "    format(no_tickets,probabilty)\n",
    "    print(template)\n",
    "    template2=\"In other words you have 1 in {:,} chances\".\\\n",
    "    format(round(total_outcomes/no_tickets))\n",
    "    print(template2)"
   ]
  },
  {
   "cell_type": "code",
   "execution_count": 18,
   "metadata": {
    "collapsed": false
   },
   "outputs": [
    {
     "name": "stdout",
     "output_type": "stream",
     "text": [
      "Probability of winning the big prize with 1 tickets is 0.000007151\n",
      "In other words you have 1 in 13,983,816 chances\n",
      "Probability of winning the big prize with 10 tickets is 0.000071511\n",
      "In other words you have 1 in 1,398,382 chances\n",
      "Probability of winning the big prize with 100 tickets is 0.000715112\n",
      "In other words you have 1 in 139,838 chances\n",
      "Probability of winning the big prize with 10,000 tickets is 0.071511238\n",
      "In other words you have 1 in 1,398 chances\n",
      "Probability of winning the big prize with 1,000,000 tickets is 7.151123842\n",
      "In other words you have 1 in 14 chances\n",
      "Probability of winning the big prize with 6,991,908 tickets is 50.000000000\n",
      "In other words you have 1 in 2 chances\n",
      "Probability of winning the big prize with 13,983,816 tickets is 100.000000000\n",
      "In other words you have 1 in 1 chances\n"
     ]
    }
   ],
   "source": [
    "inputs=[1, 10, 100, 10000, 1000000, 6991908, 13983816]\n",
    "for i in inputs:\n",
    "    multi_ticket_probability(i)\n"
   ]
  },
  {
   "cell_type": "code",
   "execution_count": 25,
   "metadata": {
    "collapsed": false
   },
   "outputs": [
    {
     "name": "stdout",
     "output_type": "stream",
     "text": [
      "The probability of having atleast these digits 2 is 13.237802900152577\n",
      "The probability of having atleast these digits 3 is 1.7650403866870101\n",
      "The probability of having atleast these digits 4 is 0.0968619724401408\n",
      "The probability of having atleast these digits 5 is 0.0018449899512407771\n"
     ]
    }
   ],
   "source": [
    "def probability_less_6(integer_input):\n",
    "    combinations_ticket_player=combinations(6,integer_input)\n",
    "    total_left=combinations(43, 6 - integer_input)\n",
    "    positive_outcoms=total_left*combinations_ticket_player\n",
    "    total_outcomes=(positive_outcoms/combinations(49,6))*100\n",
    "    return total_outcomes\n",
    "num=[2,3,4,5]\n",
    "for i in num:\n",
    "    ans=probability_less_6(i)\n",
    "    print\\\n",
    "    (\"The probability of having atleast these digits {:,} is {:,}\".format(i,ans))  \n",
    "    \n",
    "    "
   ]
  },
  {
   "cell_type": "markdown",
   "metadata": {
    "collapsed": true
   },
   "source": [
    "For the first version of the app, we coded four main functions:\n",
    "\n",
    "one_ticket_probability() — calculates the probability of winning the big prize with a single ticket\n",
    "check_historical_occurrence() — checks whether a certain combination has occurred in the Canada lottery data set\n",
    "multi_ticket_probability() — calculates the probability for any number of of tickets between 1 and 13,983,816\n",
    "probability_less_6() — calculates the probability of having two, three, four or five winning numbers exactly\n",
    "Possible features for a second version of the app include:\n",
    "\n",
    "Making the outputs even easier to understand by adding fun analogies (for example, we can find probabilities for strange events and compare with the chances of winning in lottery; for instance, we can output something along the lines \"You are 100 times more likely to be the victim of a shark attack than winning the lottery\")\n",
    "Combining the one_ticket_probability() and check_historical_occurrence() to output information on probability and historical occurrence at the same time\n",
    "Create a function similar to probability_less_6() which calculates the probability of having at least two, three, four or five winning numbers. Hint: the number of successful outcomes for having at least four winning numbers is the sum of these three numbers:\n",
    "The number of successful outcomes for having four winning numbers exactly\n",
    "The number of successful outcomes for having five winning numbers exactly\n",
    "The number of successful outcomes for having six winning numbers exactly"
   ]
  },
  {
   "cell_type": "code",
   "execution_count": null,
   "metadata": {
    "collapsed": true
   },
   "outputs": [],
   "source": []
  }
 ],
 "metadata": {
  "kernelspec": {
   "display_name": "Python 3",
   "language": "python",
   "name": "python3"
  },
  "language_info": {
   "codemirror_mode": {
    "name": "ipython",
    "version": 3
   },
   "file_extension": ".py",
   "mimetype": "text/x-python",
   "name": "python",
   "nbconvert_exporter": "python",
   "pygments_lexer": "ipython3",
   "version": "3.4.3"
  }
 },
 "nbformat": 4,
 "nbformat_minor": 2
}
